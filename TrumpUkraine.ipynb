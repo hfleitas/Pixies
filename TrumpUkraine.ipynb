{
    "metadata": {
        "kernelspec": {
            "name": "SQL",
            "display_name": "SQL",
            "language": "sql"
        },
        "language_info": {
            "name": "sql",
            "version": ""
        }
    },
    "nbformat_minor": 2,
    "nbformat": 4,
    "cells": [
        {
            "cell_type": "markdown",
            "source": [
                "# 🤵🏼 Mr. President, Don't forget the 🔑\r\n",
                "https://www.whitehouse.gov/wp-content/uploads/2019/09/Unclassified09.2019.pdf "
            ],
            "metadata": {
                "azdata_cell_guid": "ab8d3165-f3c3-4cad-ba45-1479f99f5fdc"
            }
        },
        {
            "cell_type": "code",
            "source": [
                "drop table if exists quotes;\r\n",
                "\r\n",
                "create table quotes (\r\n",
                "    quoteid     int             identity(1,1) primary key clustered,\r\n",
                "    character   varchar(128)    not null,\r\n",
                "    quote       nvarchar(max)   not null,\r\n",
                "    sentiment   float\r\n",
                ");\r\n",
                "\r\n",
                "insert into quotes (character, quote)\r\n",
                "values \r\n",
                " ('The President', 'Congratulations on a great victory. We all watched from the United States and you did a terrific.job. The way.you came from behind, -somebody who wasn''t given much of a chance, and you ended up winning easily. It''s a fantastic achievement. Congratulations.')\r\n",
                ",('President Zelenskyy', 'You are absolutely right Mr. Presideht. We did win big and we worked hard for this. We worked a lot but I would like to confess to you that I had an opportunity to learn from you. We used quite a few of your skills and knowledge and were able to use .it as an example for our elections and yes it is true that these were unique elections. We were in a unique situation that we were able to achieve a unique success. I''m able to tell you the following; the first time, you called me to congratulate me when I won my presidential election, and the second time you are now calling me when my party won the parliamentary election. I think I should run more often so you can call me more often and we can talk over the phone more often.')\r\n",
                ",('The President', '[laughter] That''s a very good idea. I think your country is very happy about that.')\r\n",
                ",('President Zelenskyy', 'Well yes, to tell you the truth, we are trying to work hard because we wanted to drain the swamp here in our country. We brought in many many new people. Not the old politicians, not the typical politicians, because we want to have a new format and a new type of government. You are a great teacher for us and in that.')\r\n",
                ",('The President', 'Well it''s very nice of you to say that. I will say that we do a lot for Ukraine. We spend a lot of effort and a lot of time. Much more than the European countries are doing and they should be helping.you more than.they are. Germany does almost nothing for you. All they do is talk and I think it''s something that you should really ask them about. When I was speaking to Angela Merkel she talks Ukraine, but she doesn''t do anything. A lot of the European countries are the same way so I think it''s.something you want to look at but the United States has been very very good to Ukraine. I wouldn''t say that it''s reciprocal necessarily because things are happening that are not good but the United States has been very very good to Ukraine.')\r\n",
                ",('President Zelenskyy', 'Yes you are·absolutely right. Not only 100 percent, but actually 1000 percent and I can tell you the following; I did talk to Angela Merkel and I did meet with her. I also met and talked with Macron and I told them that they are not doing quite as much as they need to be doing on the issues with the sanctions. They are not enforcing the sanctions. They are not working as much as they should work for Ukraine. It turns out that even though logically, the European Union should be our biggest partner but technically the United States is a much bigger partner than the European Union and I''m very grateful to you for that because the United States is doing quite a lot for Ukraine. Much more than the European Union especially when we are talking about sanctions against the Russian Federation. I would also like to thank you for your great support in the area of defense. We are ready to continue to cooperate for the next steps specifically we are almost ready to buy more Javelins from the United States for defense purposes.')\r\n",
                ",('The President','I would like you to do us a favor though because our country has been through a lot and Ukraine knows a lot about it. I would like you to find out what happened with this whole situation with Ukraine, they say Crowdstrike... I guess you have one of your wealthy people... The server, they say Ukraine has it. There are a lot of things that went on, the whole situation. I think you''re surrounding yourself with some of the same people. I would like to have the Attorney General call you or your people and I would like you to get to the bottom of it. As you saw yesterday, that whole nonsense ended with a very poor performance by a man named Robert Mueller, an incompetent performance, but they say a lot of it started with Ukraine. Whatever you can do, it''s very important that you do it if that''s possible.')\r\n",
                ",('President Zelenskyy','Yes it is very important for me and everything that you just mentioned earlier. For me as a President, it is very important and we are open for any future cooperation. We are ready to open a new page on cooperation in relations between the United States and Ukraine. For that purpose, I just recalled our ambassador from United States and he will be replaced by a very competent and very experienced ambassador who wtll work hard on making sure that our two nations are getting closer. I would also like and hope to see him having your trust and your confidence and have personal relations with you so we can cooperate even more so. I will personally tell you that one of my assistants spoke with Mr. Giuliani just.recently and we are hoping very much that Mr. Giuliani will be able to travel to Ukraine and we will meet once he co�es to Ukraine. I just wanted to assure you once again that you have nobody but friends around us. I will make sure that I surround myself with the best and most experienced people. I also wanted to tell you that we are friends. We are great friends and you Mr. President have friends in our country so we can continue our strategic partnership. I also plan to surround myself with great people and in addition to that investigation, I guarantee as the President of Ukraine that all the investigations will be done openly and candidly. That I can assure you.')\r\n",
                ",('The President','Good because I heard you had a prosecutor who was very good and he was shut down and that''s really unfair. A lot of people are talking about that, the way they shut your very good prosecutor down and you had some very bad people involved. Mr. Giuliani is a highly respected man. He was the mayor of New York City, a great mayor, and I would like him to call you. I will ask him to call you along with the Attorney General. Rudy very much knows what''s happening and he is a very capable guy. If you could speak to him that would be great. The former ambassador from the United States, the woman, was bad news and the people she was dealing with in the Ukraine were bad news so I just want to let you know that. The other thing, There''s a lot of talk about Biden''s son, that Biden stopped the prosecution and a lot of people want to find out about that so whatever you can do with the Attorney General would be great. Biden went around bragging that he stopped the prosecution so if you can look into it... It sounds horrible to me.')\r\n",
                ",('President Zelenskyy','I wanted to tell you about the prosecutor. First of all I understand and I''m knowledgeable about the situation. Since we have won the absolute majority in our Parliament, the next prosecutor general will be 100 percent my person, my candidate, who will be approved by the parliament and will start as a new prosecutor in September. He or she will look into the situation, specifically to the company that you mentioned in this issue. The issue of the investigation of the case is actually the issui of making sure to restore the honesty so we will take care of that and will work on the investigation of the case. On top of that, I would kindly ask you if you have any additional information that you can provide to us, it would be very helpful for the investigation to make sure that we administer justice in our country with regard to the Ambassador to the United States from Ukraine as far as I recall her name was Ivanovich. It was great that you were the first one. who told me that she was a bad ambassador because I agree with you 100 percent. Her attitude towards me was far from the best as she admired the previous President and she was on his side. She would not accept me as a new President well enough.')\r\n",
                ",('The President','Well, she''s going to go through some things. I will have Mr. Giuliani give you a call and I am also going to have Attorney General Barr call and we will get to the bottom of it. I''m sure you will figure it out. I heard the prosecutor was treated very badly and he was a very fair prosecutor so good luck with everything. Your economy is going to get better and better I predict. You have a lot of assets. It''s a great country. I have many Ukrainian friends, their incredible people.')\r\n",
                ",('President Zelenskyy','I would like to tell you that I also have quite a few Ukrainian friends that live the United States. Actually last time I traveled to the United States, I stayed in New York near Central Park and I stayed at the Trump Tower. I will talk to them and I hope to see them again in the future. I also wanted to thank you for your invitation to visit the United States, specifically Washington DC. On the other hand, I also want to ensure you that we will be very serious about the case and will work on the investigation. As to the economy, there is much potential for our two countries and one of the issues that is very important for Ukraine is energy independence. I believe we can be very successful. and cooperating on energy independence witp United States. We are already working on cooperation. We are buying American oil but I am very hopeful for a future meeting. We will have more time and more opportunities to discuss these opportunities and get to know each other better. I would like to thank you very much for your support.')\r\n",
                ",('The President','Good. Well, thank you very much and I appreciate that. I will tell Rudy and Attorney General Barr to call. Thank you. Whenever you would like to come to the White House, feel free to call. Give us a date and we''ll work that out. I look forward to seeing you.')\r\n",
                ",('President Zelenskyy','Thank you very much. I would be very happy to come and would be happy to meet with you personally and get to know you better. I am looking forward to our meeting and I also would like to invite you to visit Ukraine and come to the city of Kyiv which is a beautiful city. We have a beautiful country which would welcome you. On the other hand, I believe that on Septernber 1 we will be in Poland and we can meet in Poland hopefully. After that, it might be a very good idea for you to travel to Ukraine. We can either take my plane and go to Ukraine or we can take your plane, which is probably much better than mine.')\r\n",
                ",('The President','Okay, we can work that out. I look forward a to seeing you in Washington and maybe in Poland because I think we are going to be there at that time.')\r\n",
                ",('President Zelenskyy','Thank you very much Mr. President.')\r\n",
                ",('The President','Congratulations on a fantastic job you''ve done. The whole world was watching. I''m not sure it was so much of an upset but congratulations.')\r\n",
                ",('President Zelenskyy','Thank you Mr. President bye-bye.')\r\n",
                "\r\n",
                ";"
            ],
            "metadata": {
                "azdata_cell_guid": "d046728c-5017-44bf-b616-6e32d0ca7422"
            },
            "outputs": [
                {
                    "output_type": "display_data",
                    "data": {
                        "text/html": "(18 rows affected)"
                    },
                    "metadata": {}
                },
                {
                    "output_type": "display_data",
                    "data": {
                        "text/html": "Total execution time: 00:00:00.012"
                    },
                    "metadata": {}
                }
            ],
            "execution_count": 5
        },
        {
            "cell_type": "markdown",
            "source": [
                "### 🙉 CAUTION: \r\n",
                "##### A Memorandum of a Telephone Conversation. (TELCON) is not a verbatim transcript of a discussion. The text in this document records the notes and recollections of Situation Room Duty Officers and NSC policy staff assigned to listen and memorialize the conversation in written form as the conversation takes place. A number of factors can affect the accuracy of the record, including poor telecommunications connections and variations in accent and/or interpretation. The word \"inaudible\" is used to indicate portions of a conversation that the notetaker was unable to hear.\r\n",
                "\r\n",
                "|Classified By|Derived From|Declassify On|\r\n",
                "|:---|:---:| ---:|\r\n",
                "|2354726|NSC SCG|20441231|\r\n",
                ""
            ],
            "metadata": {
                "azdata_cell_guid": "516f0aa6-e40a-4ab2-a607-45ef272962b3"
            }
        },
        {
            "cell_type": "markdown",
            "source": [
                "## 🧠‍‍ 👓"
            ],
            "metadata": {
                "azdata_cell_guid": "d5de4460-8bd9-4c28-9bdf-ddb8c766b9eb"
            }
        },
        {
            "cell_type": "code",
            "source": [
                "drop view if exists JsonQuotes\r\n",
                "go\r\n",
                "create view JsonQuotes\r\n",
                "as \r\n",
                "select (\r\n",
                "    select  --top(select cast(count(*)*.8 as int) from Quotes)\r\n",
                "            quoteid as id, \r\n",
                "            'en' as language, \r\n",
                "            Quote as text \r\n",
                "    from    Quotes \r\n",
                "    for json path, root('documents')\r\n",
                ") as documents\r\n",
                "go\r\n",
                "exec sp_execute_external_script @language = N'Python'\r\n",
                "    ,@script = N'DocOut = DocIn'\r\n",
                "    ,@input_data_1 = N'select * from JsonQuotes;'\r\n",
                "    ,@input_data_1_name  = N'DocIn'\r\n",
                "    ,@output_data_1_name =  N'DocOut'\r\n",
                "with result sets ((DocOut varchar(max)));\r\n",
                "go"
            ],
            "metadata": {
                "azdata_cell_guid": "364edbf0-b73d-43d2-a9c3-6d4423859aaf"
            },
            "outputs": [
                {
                    "output_type": "display_data",
                    "data": {
                        "text/html": "Commands completed successfully."
                    },
                    "metadata": {}
                },
                {
                    "output_type": "display_data",
                    "data": {
                        "text/html": "Commands completed successfully."
                    },
                    "metadata": {}
                },
                {
                    "output_type": "display_data",
                    "data": {
                        "text/html": "(1 row affected)"
                    },
                    "metadata": {}
                },
                {
                    "output_type": "display_data",
                    "data": {
                        "text/html": "Total execution time: 00:00:05.456"
                    },
                    "metadata": {}
                },
                {
                    "output_type": "execute_result",
                    "execution_count": 6,
                    "data": {
                        "application/vnd.dataresource+json": {
                            "schema": {
                                "fields": [
                                    {
                                        "name": "DocOut"
                                    }
                                ]
                            },
                            "data": [
                                {
                                    "0": "{\"documents\":[{\"id\":1,\"language\":\"en\",\"text\":\"Congratulations on a great victory. We all watched from the United States and you did a terrific.job. The way.you came from behind, -somebody who wasn't given much of a chance, and you ended up winning easily. It's a fantastic achievement. Congratulations.\"},{\"id\":2,\"language\":\"en\",\"text\":\"You are absolutely right Mr. Presideht. We did win big and we worked hard for this. We worked a lot but I would like to confess to you that I had an opportunity to learn from you. We used quite a few of your skills and knowledge and were able to use .it as an example for our elections and yes it is true that these were unique elections. We were in a unique situation that we were able to achieve a unique success. I'm able to tell you the following; the first time, you called me to congratulate me when I won my presidential election, and the second time you are now calling me when my party won the parliamentary election. I think I should run more often so you can call me more often and we can talk over the phone more often.\"},{\"id\":3,\"language\":\"en\",\"text\":\"[laughter] That's a very good idea. I think your country is very happy about that.\"},{\"id\":4,\"language\":\"en\",\"text\":\"Well yes, to tell you the truth, we are trying to work hard because we wanted to drain the swamp here in our country. We brought in many many new people. Not the old politicians, not the typical politicians, because we want to have a new format and a new type of government. You are a great teacher for us and in that.\"},{\"id\":5,\"language\":\"en\",\"text\":\"Well it's very nice of you to say that. I will say that we do a lot for Ukraine. We spend a lot of effort and a lot of time. Much more than the European countries are doing and they should be helping.you more than.they are. Germany does almost nothing for you. All they do is talk and I think it's something that you should really ask them about. When I was speaking to Angela Merkel she talks Ukraine, but she doesn't do anything. A lot of the European countries are the same way so I think it's.something you want to look at but the United States has been very very good to Ukraine. I wouldn't say that it's reciprocal necessarily because things are happening that are not good but the United States has been very very good to Ukraine.\"},{\"id\":6,\"language\":\"en\",\"text\":\"Yes you are·absolutely right. Not only 100 percent, but actually 1000 percent and I can tell you the following; I did talk to Angela Merkel and I did meet with her. I also met and talked with Macron and I told them that they are not doing quite as much as they need to be doing on the issues with the sanctions. They are not enforcing the sanctions. They are not working as much as they should work for Ukraine. It turns out that even though logically, the European Union should be our biggest partner but technically the United States is a much bigger partner than the European Union and I'm very grateful to you for that because the United States is doing quite a lot for Ukraine. Much more than the European Union especially when we are talking about sanctions against the Russian Federation. I would also like to thank you for your great support in the area of defense. We are ready to continue to cooperate for the next steps specifically we are almost ready to buy more Javelins from the United States for defense purposes.\"},{\"id\":7,\"language\":\"en\",\"text\":\"I would like you to do us a favor though because our country has been through a lot and Ukraine knows a lot about it. I would like you to find out what happened with this whole situation with Ukraine, they say Crowdstrike... I guess you have one of your wealthy people... The server, they say Ukraine has it. There are a lot of things that went on, the whole situation. I think you're surrounding yourself with some of the same people. I would like to have the Attorney General call you or your people and I would like you to get to the bottom of it. As you saw yesterday, that whole nonsense ended with a very poor performance by a man named Robert Mueller, an incompetent performance, but they say a lot of it started with Ukraine. Whatever you can do, it's very important that you do it if that's possible.\"},{\"id\":8,\"language\":\"en\",\"text\":\"Yes it is very important for me and everything that you just mentioned earlier. For me as a President, it is very important and we are open for any future cooperation. We are ready to open a new page on cooperation in relations between the United States and Ukraine. For that purpose, I just recalled our ambassador from United States and he will be replaced by a very competent and very experienced ambassador who wtll work hard on making sure that our two nations are getting closer. I would also like and hope to see him having your trust and your confidence and have personal relations with you so we can cooperate even more so. I will personally tell you that one of my assistants spoke with Mr. Giuliani just.recently and we are hoping very much that Mr. Giuliani will be able to travel to Ukraine and we will meet once he co?es to Ukraine. I just wanted to assure you once again that you have nobody but friends around us. I will make sure that I surround myself with the best and most experienced people. I also wanted to tell you that we are friends. We are great friends and you Mr. President have friends in our country so we can continue our strategic partnership. I also plan to surround myself with great people and in addition to that investigation, I guarantee as the President of Ukraine that all the investigations will be done openly and candidly. That I can assure you.\"},{\"id\":9,\"language\":\"en\",\"text\":\"Good because I heard you had a prosecutor who was very good and he was shut down and that's really unfair. A lot of people are talking about that, the way they shut your very good prosecutor down and you had some very bad people involved. Mr. Giuliani is a highly respected man. He was the mayor of New York City, a great mayor, and I would like him to call you. I will ask him to call you along with the Attorney General. Rudy very much knows what's happening and he is a very capable guy. If you could speak to him that would be great. The former ambassador from the United States, the woman, was bad news and the people she was dealing with in the Ukraine were bad news so I just want to let you know that. The other thing, There's a lot of talk about Biden's son, that Biden stopped the prosecution and a lot of people want to find out about that so whatever you can do with the Attorney General would be great. Biden went around bragging that he stopped the prosecution so if you can look into it... It sounds horrible to me.\"},{\"id\":10,\"language\":\"en\",\"text\":\"I wanted to tell you about the prosecutor. First of all I understand and I'm knowledgeable about the situation. Since we have won the absolute majority in our Parliament, the next prosecutor general will be 100 percent my person, my candidate, who will be approved by the parliament and will start as a new prosecutor in September. He or she will look into the situation, specifically to the company that you mentioned in this issue. The issue of the investigation of the case is actually the issui of making sure to restore the honesty so we will take care of that and will work on the investigation of the case. On top of that, I would kindly ask you if you have any additional information that you can provide to us, it would be very helpful for the investigation to make sure that we administer justice in our country with regard to the Ambassador to the United States from Ukraine as far as I recall her name was Ivanovich. It was great that you were the first one. who told me that she was a bad ambassador because I agree with you 100 percent. Her attitude towards me was far from the best as she admired the previous President and she was on his side. She would not accept me as a new President well enough.\"},{\"id\":11,\"language\":\"en\",\"text\":\"Well, she's going to go through some things. I will have Mr. Giuliani give you a call and I am also going to have Attorney General Barr call and we will get to the bottom of it. I'm sure you will figure it out. I heard the prosecutor was treated very badly and he was a very fair prosecutor so good luck with everything. Your economy is going to get better and better I predict. You have a lot of assets. It's a great country. I have many Ukrainian friends, their incredible people.\"},{\"id\":12,\"language\":\"en\",\"text\":\"I would like to tell you that I also have quite a few Ukrainian friends that live the United States. Actually last time I traveled to the United States, I stayed in New York near Central Park and I stayed at the Trump Tower. I will talk to them and I hope to see them again in the future. I also wanted to thank you for your invitation to visit the United States, specifically Washington DC. On the other hand, I also want to ensure you that we will be very serious about the case and will work on the investigation. As to the economy, there is much potential for our two countries and one of the issues that is very important for Ukraine is energy independence. I believe we can be very successful. and cooperating on energy independence witp United States. We are already working on cooperation. We are buying American oil but I am very hopeful for a future meeting. We will have more time and more opportunities to discuss these opportunities and get to know each other better. I would like to thank you very much for your support.\"},{\"id\":13,\"language\":\"en\",\"text\":\"Good. Well, thank you very much and I appreciate that. I will tell Rudy and Attorney General Barr to call. Thank you. Whenever you would like to come to the White House, feel free to call. Give us a date and we'll work that out. I look forward to seeing you.\"},{\"id\":14,\"language\":\"en\",\"text\":\"Thank you very much. I would be very happy to come and would be happy to meet with you personally and get to know you better. I am looking forward to our meeting and I also would like to invite you to visit Ukraine and come to the city of Kyiv which is a beautiful city. We have a beautiful country which would welcome you. On the other hand, I believe that on Septernber 1 we will be in Poland and we can meet in Poland hopefully. After that, it might be a very good idea for you to travel to Ukraine. We can either take my plane and go to Ukraine or we can take your plane, which is probably much better than mine.\"},{\"id\":15,\"language\":\"en\",\"text\":\"Okay, we can work that out. I look forward a to seeing you in Washington and maybe in Poland because I think we are going to be there at that time.\"},{\"id\":16,\"language\":\"en\",\"text\":\"Thank you very much Mr. President.\"},{\"id\":17,\"language\":\"en\",\"text\":\"Congratulations on a fantastic job you've done. The whole world was watching. I'm not sure it was so much of an upset but congratulations.\"},{\"id\":18,\"language\":\"en\",\"text\":\"Thank you Mr. President bye-bye.\"}]}"
                                }
                            ]
                        },
                        "text/html": "<table><tr><th>DocOut</th></tr><tr><td>{&quot;documents&quot;:[{&quot;id&quot;:1,&quot;language&quot;:&quot;en&quot;,&quot;text&quot;:&quot;Congratulations on a great victory. We all watched from the United States and you did a terrific.job. The way.you came from behind, -somebody who wasn't given much of a chance, and you ended up winning easily. It's a fantastic achievement. Congratulations.&quot;},{&quot;id&quot;:2,&quot;language&quot;:&quot;en&quot;,&quot;text&quot;:&quot;You are absolutely right Mr. Presideht. We did win big and we worked hard for this. We worked a lot but I would like to confess to you that I had an opportunity to learn from you. We used quite a few of your skills and knowledge and were able to use .it as an example for our elections and yes it is true that these were unique elections. We were in a unique situation that we were able to achieve a unique success. I'm able to tell you the following; the first time, you called me to congratulate me when I won my presidential election, and the second time you are now calling me when my party won the parliamentary election. I think I should run more often so you can call me more often and we can talk over the phone more often.&quot;},{&quot;id&quot;:3,&quot;language&quot;:&quot;en&quot;,&quot;text&quot;:&quot;[laughter] That's a very good idea. I think your country is very happy about that.&quot;},{&quot;id&quot;:4,&quot;language&quot;:&quot;en&quot;,&quot;text&quot;:&quot;Well yes, to tell you the truth, we are trying to work hard because we wanted to drain the swamp here in our country. We brought in many many new people. Not the old politicians, not the typical politicians, because we want to have a new format and a new type of government. You are a great teacher for us and in that.&quot;},{&quot;id&quot;:5,&quot;language&quot;:&quot;en&quot;,&quot;text&quot;:&quot;Well it's very nice of you to say that. I will say that we do a lot for Ukraine. We spend a lot of effort and a lot of time. Much more than the European countries are doing and they should be helping.you more than.they are. Germany does almost nothing for you. All they do is talk and I think it's something that you should really ask them about. When I was speaking to Angela Merkel she talks Ukraine, but she doesn't do anything. A lot of the European countries are the same way so I think it's.something you want to look at but the United States has been very very good to Ukraine. I wouldn't say that it's reciprocal necessarily because things are happening that are not good but the United States has been very very good to Ukraine.&quot;},{&quot;id&quot;:6,&quot;language&quot;:&quot;en&quot;,&quot;text&quot;:&quot;Yes you are·absolutely right. Not only 100 percent, but actually 1000 percent and I can tell you the following; I did talk to Angela Merkel and I did meet with her. I also met and talked with Macron and I told them that they are not doing quite as much as they need to be doing on the issues with the sanctions. They are not enforcing the sanctions. They are not working as much as they should work for Ukraine. It turns out that even though logically, the European Union should be our biggest partner but technically the United States is a much bigger partner than the European Union and I'm very grateful to you for that because the United States is doing quite a lot for Ukraine. Much more than the European Union especially when we are talking about sanctions against the Russian Federation. I would also like to thank you for your great support in the area of defense. We are ready to continue to cooperate for the next steps specifically we are almost ready to buy more Javelins from the United States for defense purposes.&quot;},{&quot;id&quot;:7,&quot;language&quot;:&quot;en&quot;,&quot;text&quot;:&quot;I would like you to do us a favor though because our country has been through a lot and Ukraine knows a lot about it. I would like you to find out what happened with this whole situation with Ukraine, they say Crowdstrike... I guess you have one of your wealthy people... The server, they say Ukraine has it. There are a lot of things that went on, the whole situation. I think you're surrounding yourself with some of the same people. I would like to have the Attorney General call you or your people and I would like you to get to the bottom of it. As you saw yesterday, that whole nonsense ended with a very poor performance by a man named Robert Mueller, an incompetent performance, but they say a lot of it started with Ukraine. Whatever you can do, it's very important that you do it if that's possible.&quot;},{&quot;id&quot;:8,&quot;language&quot;:&quot;en&quot;,&quot;text&quot;:&quot;Yes it is very important for me and everything that you just mentioned earlier. For me as a President, it is very important and we are open for any future cooperation. We are ready to open a new page on cooperation in relations between the United States and Ukraine. For that purpose, I just recalled our ambassador from United States and he will be replaced by a very competent and very experienced ambassador who wtll work hard on making sure that our two nations are getting closer. I would also like and hope to see him having your trust and your confidence and have personal relations with you so we can cooperate even more so. I will personally tell you that one of my assistants spoke with Mr. Giuliani just.recently and we are hoping very much that Mr. Giuliani will be able to travel to Ukraine and we will meet once he co?es to Ukraine. I just wanted to assure you once again that you have nobody but friends around us. I will make sure that I surround myself with the best and most experienced people. I also wanted to tell you that we are friends. We are great friends and you Mr. President have friends in our country so we can continue our strategic partnership. I also plan to surround myself with great people and in addition to that investigation, I guarantee as the President of Ukraine that all the investigations will be done openly and candidly. That I can assure you.&quot;},{&quot;id&quot;:9,&quot;language&quot;:&quot;en&quot;,&quot;text&quot;:&quot;Good because I heard you had a prosecutor who was very good and he was shut down and that's really unfair. A lot of people are talking about that, the way they shut your very good prosecutor down and you had some very bad people involved. Mr. Giuliani is a highly respected man. He was the mayor of New York City, a great mayor, and I would like him to call you. I will ask him to call you along with the Attorney General. Rudy very much knows what's happening and he is a very capable guy. If you could speak to him that would be great. The former ambassador from the United States, the woman, was bad news and the people she was dealing with in the Ukraine were bad news so I just want to let you know that. The other thing, There's a lot of talk about Biden's son, that Biden stopped the prosecution and a lot of people want to find out about that so whatever you can do with the Attorney General would be great. Biden went around bragging that he stopped the prosecution so if you can look into it... It sounds horrible to me.&quot;},{&quot;id&quot;:10,&quot;language&quot;:&quot;en&quot;,&quot;text&quot;:&quot;I wanted to tell you about the prosecutor. First of all I understand and I'm knowledgeable about the situation. Since we have won the absolute majority in our Parliament, the next prosecutor general will be 100 percent my person, my candidate, who will be approved by the parliament and will start as a new prosecutor in September. He or she will look into the situation, specifically to the company that you mentioned in this issue. The issue of the investigation of the case is actually the issui of making sure to restore the honesty so we will take care of that and will work on the investigation of the case. On top of that, I would kindly ask you if you have any additional information that you can provide to us, it would be very helpful for the investigation to make sure that we administer justice in our country with regard to the Ambassador to the United States from Ukraine as far as I recall her name was Ivanovich. It was great that you were the first one. who told me that she was a bad ambassador because I agree with you 100 percent. Her attitude towards me was far from the best as she admired the previous President and she was on his side. She would not accept me as a new President well enough.&quot;},{&quot;id&quot;:11,&quot;language&quot;:&quot;en&quot;,&quot;text&quot;:&quot;Well, she's going to go through some things. I will have Mr. Giuliani give you a call and I am also going to have Attorney General Barr call and we will get to the bottom of it. I'm sure you will figure it out. I heard the prosecutor was treated very badly and he was a very fair prosecutor so good luck with everything. Your economy is going to get better and better I predict. You have a lot of assets. It's a great country. I have many Ukrainian friends, their incredible people.&quot;},{&quot;id&quot;:12,&quot;language&quot;:&quot;en&quot;,&quot;text&quot;:&quot;I would like to tell you that I also have quite a few Ukrainian friends that live the United States. Actually last time I traveled to the United States, I stayed in New York near Central Park and I stayed at the Trump Tower. I will talk to them and I hope to see them again in the future. I also wanted to thank you for your invitation to visit the United States, specifically Washington DC. On the other hand, I also want to ensure you that we will be very serious about the case and will work on the investigation. As to the economy, there is much potential for our two countries and one of the issues that is very important for Ukraine is energy independence. I believe we can be very successful. and cooperating on energy independence witp United States. We are already working on cooperation. We are buying American oil but I am very hopeful for a future meeting. We will have more time and more opportunities to discuss these opportunities and get to know each other better. I would like to thank you very much for your support.&quot;},{&quot;id&quot;:13,&quot;language&quot;:&quot;en&quot;,&quot;text&quot;:&quot;Good. Well, thank you very much and I appreciate that. I will tell Rudy and Attorney General Barr to call. Thank you. Whenever you would like to come to the White House, feel free to call. Give us a date and we'll work that out. I look forward to seeing you.&quot;},{&quot;id&quot;:14,&quot;language&quot;:&quot;en&quot;,&quot;text&quot;:&quot;Thank you very much. I would be very happy to come and would be happy to meet with you personally and get to know you better. I am looking forward to our meeting and I also would like to invite you to visit Ukraine and come to the city of Kyiv which is a beautiful city. We have a beautiful country which would welcome you. On the other hand, I believe that on Septernber 1 we will be in Poland and we can meet in Poland hopefully. After that, it might be a very good idea for you to travel to Ukraine. We can either take my plane and go to Ukraine or we can take your plane, which is probably much better than mine.&quot;},{&quot;id&quot;:15,&quot;language&quot;:&quot;en&quot;,&quot;text&quot;:&quot;Okay, we can work that out. I look forward a to seeing you in Washington and maybe in Poland because I think we are going to be there at that time.&quot;},{&quot;id&quot;:16,&quot;language&quot;:&quot;en&quot;,&quot;text&quot;:&quot;Thank you very much Mr. President.&quot;},{&quot;id&quot;:17,&quot;language&quot;:&quot;en&quot;,&quot;text&quot;:&quot;Congratulations on a fantastic job you've done. The whole world was watching. I'm not sure it was so much of an upset but congratulations.&quot;},{&quot;id&quot;:18,&quot;language&quot;:&quot;en&quot;,&quot;text&quot;:&quot;Thank you Mr. President bye-bye.&quot;}]}</td></tr></table>"
                    },
                    "metadata": {}
                }
            ],
            "execution_count": 6
        },
        {
            "cell_type": "markdown",
            "source": [
                "## 🤵🏼 Mr. President, Don't forget the 🔑\r\n",
                "https://repl.it/languages/python3"
            ],
            "metadata": {
                "azdata_cell_guid": "3b112609-a170-436e-8d85-7a4ca5abba8d"
            }
        },
        {
            "cell_type": "code",
            "source": [
                "create or alter proc GetCognitiveAPIQuoteSentiment\r\n",
                "as\r\n",
                "\tset nocount on;\r\n",
                "\tdeclare @py nvarchar(max);\r\n",
                "\t\r\n",
                "\tset @py = N'import requests, pprint as pr\r\n",
                "from pandas.io.json import json_normalize\r\n",
                "\r\n",
                "subscription_key = \"mykey\" \r\n",
                "text_analytics_base_url = \"https://eastus2.api.cognitive.microsoft.com/text/analytics/v2.1/\"\r\n",
                "sentiment_url = text_analytics_base_url + \"sentiment\"\r\n",
                "\r\n",
                "df = jsondocs\r\n",
                "\r\n",
                "headers  = {\"Ocp-Apim-Subscription-Key\": subscription_key, \"content-type\": \"application/json\"}\r\n",
                "response = requests.post(sentiment_url, headers = headers, data = df.iloc[0][0].encode()) \r\n",
                "\r\n",
                "rds = response.json()\r\n",
                "df2 = json_normalize(rds, \"documents\")\r\n",
                "\r\n",
                "pr.pprint(rds)\r\n",
                "print(type(df2),df2,sep=\"\\n\")\r\n",
                "'; \r\n",
                "\r\n",
                "\tdrop table if exists apiresults;\r\n",
                "\tcreate table apiresults (id int, score float);\r\n",
                "\r\n",
                "\tinsert into apiresults\r\n",
                "\texec sp_execute_external_script @language = N'Python'\r\n",
                "\t\t,@script = @py\r\n",
                "\t\t,@input_data_1 = N'select * from JsonQuotes'\r\n",
                "\t\t,@input_data_1_name = N'jsondocs'\r\n",
                "   \t\t,@output_data_1_name =  N'df2'\r\n",
                "\tselect * from apiresults;\t\r\n",
                "\t\r\n",
                "\tupdate \tq \r\n",
                "\t\tset q.Sentiment = a.Score\r\n",
                "\tfrom \tQuotes q\r\n",
                "\tinner join apiresults a\r\n",
                "\t\ton q.quoteid = a.id\r\n",
                "\twhere \tq.Sentiment is null;\r\n",
                "go\r\n",
                "\r\n",
                "exec GetCognitiveAPIQuoteSentiment;\r\n",
                "\r\n",
                "select * from Quotes;"
            ],
            "metadata": {
                "azdata_cell_guid": "2eda7fd9-5050-4413-93a5-f612a0d159b8"
            },
            "outputs": [
                {
                    "output_type": "display_data",
                    "data": {
                        "text/html": "Commands completed successfully."
                    },
                    "metadata": {}
                },
                {
                    "output_type": "display_data",
                    "data": {
                        "text/html": "(18 rows affected)"
                    },
                    "metadata": {}
                },
                {
                    "output_type": "display_data",
                    "data": {
                        "text/html": "Total execution time: 00:00:01.928"
                    },
                    "metadata": {}
                },
                {
                    "output_type": "execute_result",
                    "execution_count": 7,
                    "data": {
                        "application/vnd.dataresource+json": {
                            "schema": {
                                "fields": [
                                    {
                                        "name": "id"
                                    },
                                    {
                                        "name": "score"
                                    }
                                ]
                            },
                            "data": [
                                {
                                    "0": "1",
                                    "1": "0.991037786006927"
                                },
                                {
                                    "0": "2",
                                    "1": "0.942626953125"
                                },
                                {
                                    "0": "3",
                                    "1": "0.980223298072815"
                                },
                                {
                                    "0": "4",
                                    "1": "0.795767188072205"
                                },
                                {
                                    "0": "5",
                                    "1": "0.826412916183472"
                                },
                                {
                                    "0": "6",
                                    "1": "0.861316204071045"
                                },
                                {
                                    "0": "7",
                                    "1": "0.140511751174927"
                                },
                                {
                                    "0": "8",
                                    "1": "0.992534875869751"
                                },
                                {
                                    "0": "9",
                                    "1": "0.778436422348022"
                                },
                                {
                                    "0": "10",
                                    "1": "0.940511763095856"
                                },
                                {
                                    "0": "11",
                                    "1": "0.989753484725952"
                                },
                                {
                                    "0": "12",
                                    "1": "0.967422068119049"
                                },
                                {
                                    "0": "13",
                                    "1": "0.996415972709656"
                                },
                                {
                                    "0": "14",
                                    "1": "0.997344255447388"
                                },
                                {
                                    "0": "15",
                                    "1": "0.865177571773529"
                                },
                                {
                                    "0": "16",
                                    "1": "0.994588255882263"
                                },
                                {
                                    "0": "17",
                                    "1": "0.918343782424927"
                                },
                                {
                                    "0": "18",
                                    "1": "0.872373938560486"
                                }
                            ]
                        },
                        "text/html": "<table><tr><th>id</th><th>score</th></tr><tr><td>1</td><td>0.991037786006927</td></tr><tr><td>2</td><td>0.942626953125</td></tr><tr><td>3</td><td>0.980223298072815</td></tr><tr><td>4</td><td>0.795767188072205</td></tr><tr><td>5</td><td>0.826412916183472</td></tr><tr><td>6</td><td>0.861316204071045</td></tr><tr><td>7</td><td>0.140511751174927</td></tr><tr><td>8</td><td>0.992534875869751</td></tr><tr><td>9</td><td>0.778436422348022</td></tr><tr><td>10</td><td>0.940511763095856</td></tr><tr><td>11</td><td>0.989753484725952</td></tr><tr><td>12</td><td>0.967422068119049</td></tr><tr><td>13</td><td>0.996415972709656</td></tr><tr><td>14</td><td>0.997344255447388</td></tr><tr><td>15</td><td>0.865177571773529</td></tr><tr><td>16</td><td>0.994588255882263</td></tr><tr><td>17</td><td>0.918343782424927</td></tr><tr><td>18</td><td>0.872373938560486</td></tr></table>"
                    },
                    "metadata": {}
                },
                {
                    "output_type": "execute_result",
                    "execution_count": 7,
                    "data": {
                        "application/vnd.dataresource+json": {
                            "schema": {
                                "fields": [
                                    {
                                        "name": "quoteid"
                                    },
                                    {
                                        "name": "character"
                                    },
                                    {
                                        "name": "quote"
                                    },
                                    {
                                        "name": "sentiment"
                                    }
                                ]
                            },
                            "data": [
                                {
                                    "0": "1",
                                    "1": "The President",
                                    "2": "Congratulations on a great victory. We all watched from the United States and you did a terrific.job. The way.you came from behind, -somebody who wasn't given much of a chance, and you ended up winning easily. It's a fantastic achievement. Congratulations.",
                                    "3": "0.991037786006927"
                                },
                                {
                                    "0": "2",
                                    "1": "President Zelenskyy",
                                    "2": "You are absolutely right Mr. Presideht. We did win big and we worked hard for this. We worked a lot but I would like to confess to you that I had an opportunity to learn from you. We used quite a few of your skills and knowledge and were able to use .it as an example for our elections and yes it is true that these were unique elections. We were in a unique situation that we were able to achieve a unique success. I'm able to tell you the following; the first time, you called me to congratulate me when I won my presidential election, and the second time you are now calling me when my party won the parliamentary election. I think I should run more often so you can call me more often and we can talk over the phone more often.",
                                    "3": "0.942626953125"
                                },
                                {
                                    "0": "3",
                                    "1": "The President",
                                    "2": "[laughter] That's a very good idea. I think your country is very happy about that.",
                                    "3": "0.980223298072815"
                                },
                                {
                                    "0": "4",
                                    "1": "President Zelenskyy",
                                    "2": "Well yes, to tell you the truth, we are trying to work hard because we wanted to drain the swamp here in our country. We brought in many many new people. Not the old politicians, not the typical politicians, because we want to have a new format and a new type of government. You are a great teacher for us and in that.",
                                    "3": "0.795767188072205"
                                },
                                {
                                    "0": "5",
                                    "1": "The President",
                                    "2": "Well it's very nice of you to say that. I will say that we do a lot for Ukraine. We spend a lot of effort and a lot of time. Much more than the European countries are doing and they should be helping.you more than.they are. Germany does almost nothing for you. All they do is talk and I think it's something that you should really ask them about. When I was speaking to Angela Merkel she talks Ukraine, but she doesn't do anything. A lot of the European countries are the same way so I think it's.something you want to look at but the United States has been very very good to Ukraine. I wouldn't say that it's reciprocal necessarily because things are happening that are not good but the United States has been very very good to Ukraine.",
                                    "3": "0.826412916183472"
                                },
                                {
                                    "0": "6",
                                    "1": "President Zelenskyy",
                                    "2": "Yes you are·absolutely right. Not only 100 percent, but actually 1000 percent and I can tell you the following; I did talk to Angela Merkel and I did meet with her. I also met and talked with Macron and I told them that they are not doing quite as much as they need to be doing on the issues with the sanctions. They are not enforcing the sanctions. They are not working as much as they should work for Ukraine. It turns out that even though logically, the European Union should be our biggest partner but technically the United States is a much bigger partner than the European Union and I'm very grateful to you for that because the United States is doing quite a lot for Ukraine. Much more than the European Union especially when we are talking about sanctions against the Russian Federation. I would also like to thank you for your great support in the area of defense. We are ready to continue to cooperate for the next steps specifically we are almost ready to buy more Javelins from the United States for defense purposes.",
                                    "3": "0.861316204071045"
                                },
                                {
                                    "0": "7",
                                    "1": "The President",
                                    "2": "I would like you to do us a favor though because our country has been through a lot and Ukraine knows a lot about it. I would like you to find out what happened with this whole situation with Ukraine, they say Crowdstrike... I guess you have one of your wealthy people... The server, they say Ukraine has it. There are a lot of things that went on, the whole situation. I think you're surrounding yourself with some of the same people. I would like to have the Attorney General call you or your people and I would like you to get to the bottom of it. As you saw yesterday, that whole nonsense ended with a very poor performance by a man named Robert Mueller, an incompetent performance, but they say a lot of it started with Ukraine. Whatever you can do, it's very important that you do it if that's possible.",
                                    "3": "0.140511751174927"
                                },
                                {
                                    "0": "8",
                                    "1": "President Zelenskyy",
                                    "2": "Yes it is very important for me and everything that you just mentioned earlier. For me as a President, it is very important and we are open for any future cooperation. We are ready to open a new page on cooperation in relations between the United States and Ukraine. For that purpose, I just recalled our ambassador from United States and he will be replaced by a very competent and very experienced ambassador who wtll work hard on making sure that our two nations are getting closer. I would also like and hope to see him having your trust and your confidence and have personal relations with you so we can cooperate even more so. I will personally tell you that one of my assistants spoke with Mr. Giuliani just.recently and we are hoping very much that Mr. Giuliani will be able to travel to Ukraine and we will meet once he co?es to Ukraine. I just wanted to assure you once again that you have nobody but friends around us. I will make sure that I surround myself with the best and most experienced people. I also wanted to tell you that we are friends. We are great friends and you Mr. President have friends in our country so we can continue our strategic partnership. I also plan to surround myself with great people and in addition to that investigation, I guarantee as the President of Ukraine that all the investigations will be done openly and candidly. That I can assure you.",
                                    "3": "0.992534875869751"
                                },
                                {
                                    "0": "9",
                                    "1": "The President",
                                    "2": "Good because I heard you had a prosecutor who was very good and he was shut down and that's really unfair. A lot of people are talking about that, the way they shut your very good prosecutor down and you had some very bad people involved. Mr. Giuliani is a highly respected man. He was the mayor of New York City, a great mayor, and I would like him to call you. I will ask him to call you along with the Attorney General. Rudy very much knows what's happening and he is a very capable guy. If you could speak to him that would be great. The former ambassador from the United States, the woman, was bad news and the people she was dealing with in the Ukraine were bad news so I just want to let you know that. The other thing, There's a lot of talk about Biden's son, that Biden stopped the prosecution and a lot of people want to find out about that so whatever you can do with the Attorney General would be great. Biden went around bragging that he stopped the prosecution so if you can look into it... It sounds horrible to me.",
                                    "3": "0.778436422348022"
                                },
                                {
                                    "0": "10",
                                    "1": "President Zelenskyy",
                                    "2": "I wanted to tell you about the prosecutor. First of all I understand and I'm knowledgeable about the situation. Since we have won the absolute majority in our Parliament, the next prosecutor general will be 100 percent my person, my candidate, who will be approved by the parliament and will start as a new prosecutor in September. He or she will look into the situation, specifically to the company that you mentioned in this issue. The issue of the investigation of the case is actually the issui of making sure to restore the honesty so we will take care of that and will work on the investigation of the case. On top of that, I would kindly ask you if you have any additional information that you can provide to us, it would be very helpful for the investigation to make sure that we administer justice in our country with regard to the Ambassador to the United States from Ukraine as far as I recall her name was Ivanovich. It was great that you were the first one. who told me that she was a bad ambassador because I agree with you 100 percent. Her attitude towards me was far from the best as she admired the previous President and she was on his side. She would not accept me as a new President well enough.",
                                    "3": "0.940511763095856"
                                },
                                {
                                    "0": "11",
                                    "1": "The President",
                                    "2": "Well, she's going to go through some things. I will have Mr. Giuliani give you a call and I am also going to have Attorney General Barr call and we will get to the bottom of it. I'm sure you will figure it out. I heard the prosecutor was treated very badly and he was a very fair prosecutor so good luck with everything. Your economy is going to get better and better I predict. You have a lot of assets. It's a great country. I have many Ukrainian friends, their incredible people.",
                                    "3": "0.989753484725952"
                                },
                                {
                                    "0": "12",
                                    "1": "President Zelenskyy",
                                    "2": "I would like to tell you that I also have quite a few Ukrainian friends that live the United States. Actually last time I traveled to the United States, I stayed in New York near Central Park and I stayed at the Trump Tower. I will talk to them and I hope to see them again in the future. I also wanted to thank you for your invitation to visit the United States, specifically Washington DC. On the other hand, I also want to ensure you that we will be very serious about the case and will work on the investigation. As to the economy, there is much potential for our two countries and one of the issues that is very important for Ukraine is energy independence. I believe we can be very successful. and cooperating on energy independence witp United States. We are already working on cooperation. We are buying American oil but I am very hopeful for a future meeting. We will have more time and more opportunities to discuss these opportunities and get to know each other better. I would like to thank you very much for your support.",
                                    "3": "0.967422068119049"
                                },
                                {
                                    "0": "13",
                                    "1": "The President",
                                    "2": "Good. Well, thank you very much and I appreciate that. I will tell Rudy and Attorney General Barr to call. Thank you. Whenever you would like to come to the White House, feel free to call. Give us a date and we'll work that out. I look forward to seeing you.",
                                    "3": "0.996415972709656"
                                },
                                {
                                    "0": "14",
                                    "1": "President Zelenskyy",
                                    "2": "Thank you very much. I would be very happy to come and would be happy to meet with you personally and get to know you better. I am looking forward to our meeting and I also would like to invite you to visit Ukraine and come to the city of Kyiv which is a beautiful city. We have a beautiful country which would welcome you. On the other hand, I believe that on Septernber 1 we will be in Poland and we can meet in Poland hopefully. After that, it might be a very good idea for you to travel to Ukraine. We can either take my plane and go to Ukraine or we can take your plane, which is probably much better than mine.",
                                    "3": "0.997344255447388"
                                },
                                {
                                    "0": "15",
                                    "1": "The President",
                                    "2": "Okay, we can work that out. I look forward a to seeing you in Washington and maybe in Poland because I think we are going to be there at that time.",
                                    "3": "0.865177571773529"
                                },
                                {
                                    "0": "16",
                                    "1": "President Zelenskyy",
                                    "2": "Thank you very much Mr. President.",
                                    "3": "0.994588255882263"
                                },
                                {
                                    "0": "17",
                                    "1": "The President",
                                    "2": "Congratulations on a fantastic job you've done. The whole world was watching. I'm not sure it was so much of an upset but congratulations.",
                                    "3": "0.918343782424927"
                                },
                                {
                                    "0": "18",
                                    "1": "President Zelenskyy",
                                    "2": "Thank you Mr. President bye-bye.",
                                    "3": "0.872373938560486"
                                }
                            ]
                        },
                        "text/html": "<table><tr><th>quoteid</th><th>character</th><th>quote</th><th>sentiment</th></tr><tr><td>1</td><td>The President</td><td>Congratulations on a great victory. We all watched from the United States and you did a terrific.job. The way.you came from behind, -somebody who wasn't given much of a chance, and you ended up winning easily. It's a fantastic achievement. Congratulations.</td><td>0.991037786006927</td></tr><tr><td>2</td><td>President Zelenskyy</td><td>You are absolutely right Mr. Presideht. We did win big and we worked hard for this. We worked a lot but I would like to confess to you that I had an opportunity to learn from you. We used quite a few of your skills and knowledge and were able to use .it as an example for our elections and yes it is true that these were unique elections. We were in a unique situation that we were able to achieve a unique success. I'm able to tell you the following; the first time, you called me to congratulate me when I won my presidential election, and the second time you are now calling me when my party won the parliamentary election. I think I should run more often so you can call me more often and we can talk over the phone more often.</td><td>0.942626953125</td></tr><tr><td>3</td><td>The President</td><td>[laughter] That's a very good idea. I think your country is very happy about that.</td><td>0.980223298072815</td></tr><tr><td>4</td><td>President Zelenskyy</td><td>Well yes, to tell you the truth, we are trying to work hard because we wanted to drain the swamp here in our country. We brought in many many new people. Not the old politicians, not the typical politicians, because we want to have a new format and a new type of government. You are a great teacher for us and in that.</td><td>0.795767188072205</td></tr><tr><td>5</td><td>The President</td><td>Well it's very nice of you to say that. I will say that we do a lot for Ukraine. We spend a lot of effort and a lot of time. Much more than the European countries are doing and they should be helping.you more than.they are. Germany does almost nothing for you. All they do is talk and I think it's something that you should really ask them about. When I was speaking to Angela Merkel she talks Ukraine, but she doesn't do anything. A lot of the European countries are the same way so I think it's.something you want to look at but the United States has been very very good to Ukraine. I wouldn't say that it's reciprocal necessarily because things are happening that are not good but the United States has been very very good to Ukraine.</td><td>0.826412916183472</td></tr><tr><td>6</td><td>President Zelenskyy</td><td>Yes you are·absolutely right. Not only 100 percent, but actually 1000 percent and I can tell you the following; I did talk to Angela Merkel and I did meet with her. I also met and talked with Macron and I told them that they are not doing quite as much as they need to be doing on the issues with the sanctions. They are not enforcing the sanctions. They are not working as much as they should work for Ukraine. It turns out that even though logically, the European Union should be our biggest partner but technically the United States is a much bigger partner than the European Union and I'm very grateful to you for that because the United States is doing quite a lot for Ukraine. Much more than the European Union especially when we are talking about sanctions against the Russian Federation. I would also like to thank you for your great support in the area of defense. We are ready to continue to cooperate for the next steps specifically we are almost ready to buy more Javelins from the United States for defense purposes.</td><td>0.861316204071045</td></tr><tr><td>7</td><td>The President</td><td>I would like you to do us a favor though because our country has been through a lot and Ukraine knows a lot about it. I would like you to find out what happened with this whole situation with Ukraine, they say Crowdstrike... I guess you have one of your wealthy people... The server, they say Ukraine has it. There are a lot of things that went on, the whole situation. I think you're surrounding yourself with some of the same people. I would like to have the Attorney General call you or your people and I would like you to get to the bottom of it. As you saw yesterday, that whole nonsense ended with a very poor performance by a man named Robert Mueller, an incompetent performance, but they say a lot of it started with Ukraine. Whatever you can do, it's very important that you do it if that's possible.</td><td>0.140511751174927</td></tr><tr><td>8</td><td>President Zelenskyy</td><td>Yes it is very important for me and everything that you just mentioned earlier. For me as a President, it is very important and we are open for any future cooperation. We are ready to open a new page on cooperation in relations between the United States and Ukraine. For that purpose, I just recalled our ambassador from United States and he will be replaced by a very competent and very experienced ambassador who wtll work hard on making sure that our two nations are getting closer. I would also like and hope to see him having your trust and your confidence and have personal relations with you so we can cooperate even more so. I will personally tell you that one of my assistants spoke with Mr. Giuliani just.recently and we are hoping very much that Mr. Giuliani will be able to travel to Ukraine and we will meet once he co?es to Ukraine. I just wanted to assure you once again that you have nobody but friends around us. I will make sure that I surround myself with the best and most experienced people. I also wanted to tell you that we are friends. We are great friends and you Mr. President have friends in our country so we can continue our strategic partnership. I also plan to surround myself with great people and in addition to that investigation, I guarantee as the President of Ukraine that all the investigations will be done openly and candidly. That I can assure you.</td><td>0.992534875869751</td></tr><tr><td>9</td><td>The President</td><td>Good because I heard you had a prosecutor who was very good and he was shut down and that's really unfair. A lot of people are talking about that, the way they shut your very good prosecutor down and you had some very bad people involved. Mr. Giuliani is a highly respected man. He was the mayor of New York City, a great mayor, and I would like him to call you. I will ask him to call you along with the Attorney General. Rudy very much knows what's happening and he is a very capable guy. If you could speak to him that would be great. The former ambassador from the United States, the woman, was bad news and the people she was dealing with in the Ukraine were bad news so I just want to let you know that. The other thing, There's a lot of talk about Biden's son, that Biden stopped the prosecution and a lot of people want to find out about that so whatever you can do with the Attorney General would be great. Biden went around bragging that he stopped the prosecution so if you can look into it... It sounds horrible to me.</td><td>0.778436422348022</td></tr><tr><td>10</td><td>President Zelenskyy</td><td>I wanted to tell you about the prosecutor. First of all I understand and I'm knowledgeable about the situation. Since we have won the absolute majority in our Parliament, the next prosecutor general will be 100 percent my person, my candidate, who will be approved by the parliament and will start as a new prosecutor in September. He or she will look into the situation, specifically to the company that you mentioned in this issue. The issue of the investigation of the case is actually the issui of making sure to restore the honesty so we will take care of that and will work on the investigation of the case. On top of that, I would kindly ask you if you have any additional information that you can provide to us, it would be very helpful for the investigation to make sure that we administer justice in our country with regard to the Ambassador to the United States from Ukraine as far as I recall her name was Ivanovich. It was great that you were the first one. who told me that she was a bad ambassador because I agree with you 100 percent. Her attitude towards me was far from the best as she admired the previous President and she was on his side. She would not accept me as a new President well enough.</td><td>0.940511763095856</td></tr><tr><td>11</td><td>The President</td><td>Well, she's going to go through some things. I will have Mr. Giuliani give you a call and I am also going to have Attorney General Barr call and we will get to the bottom of it. I'm sure you will figure it out. I heard the prosecutor was treated very badly and he was a very fair prosecutor so good luck with everything. Your economy is going to get better and better I predict. You have a lot of assets. It's a great country. I have many Ukrainian friends, their incredible people.</td><td>0.989753484725952</td></tr><tr><td>12</td><td>President Zelenskyy</td><td>I would like to tell you that I also have quite a few Ukrainian friends that live the United States. Actually last time I traveled to the United States, I stayed in New York near Central Park and I stayed at the Trump Tower. I will talk to them and I hope to see them again in the future. I also wanted to thank you for your invitation to visit the United States, specifically Washington DC. On the other hand, I also want to ensure you that we will be very serious about the case and will work on the investigation. As to the economy, there is much potential for our two countries and one of the issues that is very important for Ukraine is energy independence. I believe we can be very successful. and cooperating on energy independence witp United States. We are already working on cooperation. We are buying American oil but I am very hopeful for a future meeting. We will have more time and more opportunities to discuss these opportunities and get to know each other better. I would like to thank you very much for your support.</td><td>0.967422068119049</td></tr><tr><td>13</td><td>The President</td><td>Good. Well, thank you very much and I appreciate that. I will tell Rudy and Attorney General Barr to call. Thank you. Whenever you would like to come to the White House, feel free to call. Give us a date and we'll work that out. I look forward to seeing you.</td><td>0.996415972709656</td></tr><tr><td>14</td><td>President Zelenskyy</td><td>Thank you very much. I would be very happy to come and would be happy to meet with you personally and get to know you better. I am looking forward to our meeting and I also would like to invite you to visit Ukraine and come to the city of Kyiv which is a beautiful city. We have a beautiful country which would welcome you. On the other hand, I believe that on Septernber 1 we will be in Poland and we can meet in Poland hopefully. After that, it might be a very good idea for you to travel to Ukraine. We can either take my plane and go to Ukraine or we can take your plane, which is probably much better than mine.</td><td>0.997344255447388</td></tr><tr><td>15</td><td>The President</td><td>Okay, we can work that out. I look forward a to seeing you in Washington and maybe in Poland because I think we are going to be there at that time.</td><td>0.865177571773529</td></tr><tr><td>16</td><td>President Zelenskyy</td><td>Thank you very much Mr. President.</td><td>0.994588255882263</td></tr><tr><td>17</td><td>The President</td><td>Congratulations on a fantastic job you've done. The whole world was watching. I'm not sure it was so much of an upset but congratulations.</td><td>0.918343782424927</td></tr><tr><td>18</td><td>President Zelenskyy</td><td>Thank you Mr. President bye-bye.</td><td>0.872373938560486</td></tr></table>"
                    },
                    "metadata": {}
                }
            ],
            "execution_count": 7
        },
        {
            "cell_type": "markdown",
            "source": [
                "## 💖 Here's an idea."
            ],
            "metadata": {
                "azdata_cell_guid": "1dae8919-784e-4c64-819a-4d568caddd8a"
            }
        },
        {
            "cell_type": "code",
            "source": [
                "select  avg(sentiment) as AvgSentimtment, character \r\n",
                "from    quotes\r\n",
                "where   sentiment is not null\r\n",
                "group by character\r\n",
                "order by AvgSentimtment desc"
            ],
            "metadata": {
                "azdata_cell_guid": "59623b7c-b2c3-41c0-9517-035b1ceb163f"
            },
            "outputs": [
                {
                    "output_type": "display_data",
                    "data": {
                        "text/html": "(2 rows affected)"
                    },
                    "metadata": {}
                },
                {
                    "output_type": "display_data",
                    "data": {
                        "text/html": "Total execution time: 00:00:00.015"
                    },
                    "metadata": {}
                },
                {
                    "output_type": "execute_result",
                    "execution_count": 8,
                    "data": {
                        "application/vnd.dataresource+json": {
                            "schema": {
                                "fields": [
                                    {
                                        "name": "AvgSentimtment"
                                    },
                                    {
                                        "name": "character"
                                    }
                                ]
                            },
                            "data": [
                                {
                                    "0": "0.929387278027005",
                                    "1": "President Zelenskyy"
                                },
                                {
                                    "0": "0.831812553935581",
                                    "1": "The President"
                                }
                            ]
                        },
                        "text/html": "<table><tr><th>AvgSentimtment</th><th>character</th></tr><tr><td>0.929387278027005</td><td>President Zelenskyy</td></tr><tr><td>0.831812553935581</td><td>The President</td></tr></table>"
                    },
                    "metadata": {}
                }
            ],
            "execution_count": 8
        },
        {
            "cell_type": "markdown",
            "source": [
                "## 🚀 Schema"
            ],
            "metadata": {
                "azdata_cell_guid": "ef827507-bbea-47f8-b50b-ab4374c7a6ac"
            }
        },
        {
            "cell_type": "code",
            "source": [
                "drop table if exists models;\r\n",
                "create table models (\r\n",
                "    ModelID         int             identity(1,1) primary key clustered,\r\n",
                "    Language\t\tvarchar(30)     not null default('Python'),\r\n",
                "    Name\t\t    nvarchar(30)    not null,\r\n",
                "    Model\t\t\tvarbinary(max)  ,\r\n",
                "    CreatedOn\t    datetime        default(getdate()),\r\n",
                "    CreatedBy\t\tnvarchar(500)   default(suser_sname())  \r\n",
                ");\r\n",
                "go\r\n",
                "\r\n",
                "drop view if exists QuotesForTraining;\r\n",
                "go\r\n",
                "create or alter view QuotesForTraining\r\n",
                "as\r\n",
                "\tselect\ttop(select cast(count(*)*1 as int) from Quotes) --because where clause!\r\n",
                "\t\t\tquote,\r\n",
                "\t\t\tcase \r\n",
                "                when sentiment <.1 then 0\r\n",
                "                when sentiment >=.1 and sentiment <.2 then 1\r\n",
                "                when sentiment >=.2 and sentiment <.3 then 2\r\n",
                "                when sentiment >=.3 and sentiment <.4 then 3 \r\n",
                "                when sentiment >=.4 and sentiment <.5 then 4\r\n",
                "                when sentiment >=.5 and sentiment <.6 then 5\r\n",
                "                when sentiment >=.6 and sentiment <.7 then 6\r\n",
                "                when sentiment >=.7 and sentiment <.8 then 7\r\n",
                "                when sentiment >=.8 and sentiment <.9 then 8\r\n",
                "                when sentiment >=.9 and sentiment <1 then 9\r\n",
                "                when sentiment >=1 then 10\r\n",
                "                else null\r\n",
                "            end as tag \r\n",
                "\tfrom\tquotes\r\n",
                "    where sentiment is not null\r\n",
                "    --order by tag;\r\n",
                "go\r\n",
                "\r\n",
                "drop view if exists QuotesForTesting;\r\n",
                "go\r\n",
                "create or alter view QuotesForTesting\r\n",
                "as\r\n",
                "\tselect\ttop(select cast(count(*)*.2 as int) from Quotes)\r\n",
                "\t\t\tquote,\r\n",
                "\t\t\tnull as tag \r\n",
                "\tfrom\tquotes\r\n",
                "    where sentiment is null;\r\n",
                ""
            ],
            "metadata": {
                "azdata_cell_guid": "f8d288d7-f2ee-4a2a-99aa-25fb78dddd38"
            },
            "outputs": [
                {
                    "output_type": "display_data",
                    "data": {
                        "text/html": "Commands completed successfully."
                    },
                    "metadata": {}
                },
                {
                    "output_type": "display_data",
                    "data": {
                        "text/html": "Commands completed successfully."
                    },
                    "metadata": {}
                },
                {
                    "output_type": "display_data",
                    "data": {
                        "text/html": "Commands completed successfully."
                    },
                    "metadata": {}
                },
                {
                    "output_type": "display_data",
                    "data": {
                        "text/html": "Commands completed successfully."
                    },
                    "metadata": {}
                },
                {
                    "output_type": "display_data",
                    "data": {
                        "text/html": "Commands completed successfully."
                    },
                    "metadata": {}
                },
                {
                    "output_type": "display_data",
                    "data": {
                        "text/html": "Total execution time: 00:00:00.018"
                    },
                    "metadata": {}
                }
            ],
            "execution_count": 8
        },
        {
            "cell_type": "markdown",
            "source": [
                "## 💰💰💰 Money bags"
            ],
            "metadata": {
                "azdata_cell_guid": "4de2e9b2-ac58-4f79-a40c-d852ba12f49b"
            }
        },
        {
            "cell_type": "code",
            "source": [
                "create or alter proc GetTrollhunterModel (\r\n",
                "\t@Name nvarchar(30) = 'TrollhunterRealtime',\r\n",
                "\t@Languange varchar(30) = 'Python'\r\n",
                ")\r\n",
                "as\t\r\n",
                "\tdeclare @model varbinary(max), @train_script nvarchar(max), @Svr varchar(128) = @@servername, @Db nvarchar(128) = db_name();\r\n",
                "\tdelete top(1) from models where name = @Name and language = @Languange;\r\n",
                "\t\r\n",
                "\t--The Python script we want to execute\r\n",
                "\tset @train_script = N'\r\n",
                "from microsoftml import rx_logistic_regression, featurize_text, n_gram\r\n",
                "from revoscalepy import rx_serialize_model, RxOdbcData, rx_write_object, RxInSqlServer, rx_set_compute_context, RxLocalSeq\r\n",
                "\r\n",
                "connection_string = \"Driver=SQL Server;Server='+@Svr+';Database='+@Db+';Trusted_Connection=true;\"\r\n",
                "dest = RxOdbcData(connection_string, table = \"models\")\r\n",
                " \r\n",
                "training_data[\"tag\"] = training_data[\"tag\"].astype(\"category\")\r\n",
                "\r\n",
                "modelpy = rx_logistic_regression(formula = \"tag ~ features\",\r\n",
                "\t\t\t\t\t\t\t\t data = training_data, \r\n",
                "\t\t\t\t\t\t\t\t method = \"multiClass\", \r\n",
                "\t\t\t\t\t\t\t\t ml_transforms=[featurize_text(language=\"English\",\r\n",
                "\t\t\t\t\t\t\t\t\t\t\t\t\t\t\t   cols=dict(features=\"quote\"),\r\n",
                "\t\t\t\t\t\t\t\t\t\t\t\t\t\t\t   word_feature_extractor=n_gram(2, weighting=\"TfIdf\"))],\r\n",
                "\t\t\t\t\t\t\t\t train_threads=1)\r\n",
                "\r\n",
                "modelbin = rx_serialize_model(modelpy, realtime_scoring_only = True)\r\n",
                "rx_write_object(dest, key_name=\"Name\", key=\"'+@Name+'\", value_name=\"Model\", value=modelbin, serialize=False, compress=None, overwrite=False)'; --overwrite=false on 2019, true on 2017.\r\n",
                "\r\n",
                "\texec sp_execute_external_script @language = N'Python'\r\n",
                "\t\t,@script = @train_script\r\n",
                "\t\t,@input_data_1 = N'select * from QuotesForTraining'\r\n",
                "\t\t,@input_data_1_name = N'training_data'\r\n",
                "go\r\n",
                "\r\n",
                "exec  GetTrollhunterModel; --00:00:02.919 home desktop.\r\n",
                "\r\n",
                "select *, datalength(model) as Datalen from dbo.models; "
            ],
            "metadata": {
                "azdata_cell_guid": "b10e1920-81df-426a-99c3-bbe93c26e0a0"
            },
            "outputs": [
                {
                    "output_type": "display_data",
                    "data": {
                        "text/html": "Commands completed successfully."
                    },
                    "metadata": {}
                },
                {
                    "output_type": "display_data",
                    "data": {
                        "text/html": "(1 row affected)"
                    },
                    "metadata": {}
                },
                {
                    "output_type": "display_data",
                    "data": {
                        "text/html": "STDERR message(s) from external script: \nC:\\Program Files\\Microsoft SQL Server\\MSSQL15.MSSQLSERVER\\PYTHON_SERVICES\\lib\\site-packages\\revoscalepy\\RxSerializable.py:163: FutureWarning: Method .as_matrix will be removed in a future version. Use .values instead.\r\n  ret[column_name] = np.array([x + 1 for x in dataframe[i].cat.codes.as_matrix().tolist()]).astype(np.int32)\r"
                    },
                    "metadata": {}
                },
                {
                    "output_type": "display_data",
                    "data": {
                        "text/html": "STDOUT message(s) from external script: \nBeginning processing data.\r\nRows Read: 57, Read Time: 0, Transform Time: 0\r\nBeginning processing data.\r\nBeginning processing data.\r\nRows Read: 57, Read Time: 0, Transform Time: 0\r\nBeginning processing data.\r\nNot adding a normalizer.\r\nBeginning processing data.\r\nRows Read: 57, Read Time: 0, Transform Time: 0\r\nBeginning processing data.\r\nBeginning optimization\r\nnum vars: 7098\r\nimprovement criterion: Mean Improvement\r\nWarning: Premature convergence occurred. The OptimizationTolerance may be set too small. ro equals zero. Is your function linear?\r\nL1 regularization selected 7 of 7098 weights.\r\nNot training a calibrator because it is not needed.\r\nElapsed time: 00:00:01.4911851\r\nElapsed time: 00:00:00.2200052\r\nRows Read: 1, Total Rows Processed: 1\r\nTotal Rows written: 1, Total time: 0.001\r\n, Total Chunk Time: 0.045 seconds \r"
                    },
                    "metadata": {}
                },
                {
                    "output_type": "display_data",
                    "data": {
                        "text/html": "(1 row affected)"
                    },
                    "metadata": {}
                },
                {
                    "output_type": "display_data",
                    "data": {
                        "text/html": "Total execution time: 00:00:07.099"
                    },
                    "metadata": {}
                },
                {
                    "output_type": "execute_result",
                    "execution_count": 11,
                    "data": {
                        "application/vnd.dataresource+json": {
                            "schema": {
                                "fields": [
                                    {
                                        "name": "ModelID"
                                    },
                                    {
                                        "name": "Language"
                                    },
                                    {
                                        "name": "Name"
                                    },
                                    {
                                        "name": "Model"
                                    },
                                    {
                                        "name": "CreatedOn"
                                    },
                                    {
                                        "name": "CreatedBy"
                                    },
                                    {
                                        "name": "Datalen"
                                    }
                                ]
                            },
                            "data": [
                                {
                                    "0": "3",
                                    "1": "Python",
                                    "2": "TrollhunterRealtime",
                                    "3": "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
                                    "4": "2019-08-19 00:31:56.843",
                                    "5": "UPCIC\\hfleitas",
                                    "6": "19017"
                                }
                            ]
                        },
                        "text/html": "<table><tr><th>ModelID</th><th>Language</th><th>Name</th><th>Model</th><th>CreatedOn</th><th>CreatedBy</th><th>Datalen</th></tr><tr><td>3</td><td>Python</td><td>TrollhunterRealtime</td><td>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td><td>2019-08-19 00:31:56.843</td><td>UPCIC\\hfleitas</td><td>19017</td></tr></table>"
                    },
                    "metadata": {}
                }
            ],
            "execution_count": 11
        },
        {
            "cell_type": "markdown",
            "source": [
                "## 🏁 Finish\r\n",
                ""
            ],
            "metadata": {
                "azdata_cell_guid": "04e84875-93ec-4432-ad78-855d367052b8"
            }
        },
        {
            "cell_type": "code",
            "source": [
                "select * from QuotesForTesting;\r\n",
                "declare @model_bin varbinary(max)=null\r\n",
                "select\t@model_bin = model from models where name = 'TrollhunterRealtime';\r\n",
                "\r\n",
                "if @model_bin is not null \r\n",
                "begin\r\n",
                "exec sp_rxPredict \r\n",
                "    @model = @model_bin, \r\n",
                "    @inputData = N'select quote, cast(tag as varchar(1)) as tag from QuotesForTesting' \r\n",
                "\r\n",
                "    if object_id('tempdb.dbo.#upv') is not null drop table #upv;\r\n",
                "    create table #upv (\r\n",
                "        predictedlabel varchar(1),\r\n",
                "        score0 float,\r\n",
                "        score1 float,\r\n",
                "        score2 float,\r\n",
                "        -- score3 float,\r\n",
                "        -- score4 float,\r\n",
                "        score5 float,\r\n",
                "        -- score6 float,\r\n",
                "        score7 float,\r\n",
                "        score8 float,\r\n",
                "        score9 float    \r\n",
                "    )\r\n",
                "    insert into #upv\r\n",
                "    exec sp_rxPredict \r\n",
                "        @model = @model_bin, \r\n",
                "        @inputData = N'select quote, cast(tag as varchar(1)) as tag from QuotesForTesting' \r\n",
                "\r\n",
                "    select  PredictedLabel, Score, Prediction\r\n",
                "    from    #upv \r\n",
                "    unpivot (\r\n",
                "        Prediction\r\n",
                "        for Score in (\r\n",
                "            score0,\r\n",
                "            score1,\r\n",
                "            score2,\r\n",
                "            -- score3,\r\n",
                "            -- score4,\r\n",
                "            score5,\r\n",
                "            -- score6,\r\n",
                "            score7,\r\n",
                "            score8,\r\n",
                "            score9\r\n",
                "        )\r\n",
                "    ) as scoreunpivot\r\n",
                "    group by PredictedLabel, Score, Prediction\r\n",
                "    order by Prediction desc\r\n",
                "end;"
            ],
            "metadata": {
                "azdata_cell_guid": "79537787-1a59-4063-aa3c-1c776ffd6dfd"
            },
            "outputs": [
                {
                    "output_type": "display_data",
                    "data": {
                        "text/html": "(14 rows affected)"
                    },
                    "metadata": {}
                },
                {
                    "output_type": "display_data",
                    "data": {
                        "text/html": "(14 rows affected)"
                    },
                    "metadata": {}
                },
                {
                    "output_type": "display_data",
                    "data": {
                        "text/html": "(14 rows affected)"
                    },
                    "metadata": {}
                },
                {
                    "output_type": "display_data",
                    "data": {
                        "text/html": "(7 rows affected)"
                    },
                    "metadata": {}
                },
                {
                    "output_type": "display_data",
                    "data": {
                        "text/html": "Total execution time: 00:00:03.112"
                    },
                    "metadata": {}
                },
                {
                    "output_type": "execute_result",
                    "execution_count": 12,
                    "data": {
                        "application/vnd.dataresource+json": {
                            "schema": {
                                "fields": [
                                    {
                                        "name": "quote"
                                    },
                                    {
                                        "name": "tag"
                                    }
                                ]
                            },
                            "data": [
                                {
                                    "0": "Oh. I moves my thumb across my throat. It is, as we say, a killing motion.",
                                    "1": "NULL"
                                },
                                {
                                    "0": "Let's try \"good cop, bad cop.\"",
                                    "1": "NULL"
                                },
                                {
                                    "0": "I think I know where you’re going with this. I shall play this game.[Claire knocks on door] Open up, RotGut, or I'll kick down this door! [RotGut answers.]",
                                    "1": "NULL"
                                },
                                {
                                    "0": "Ailment or curse?",
                                    "1": "NULL"
                                },
                                {
                                    "0": "Neither, you two-headed dirtbag! We need information. Gunmar’s got a mole down here, and you're gonna tell us who it is!",
                                    "1": "NULL"
                                },
                                {
                                    "0": "Why is she being so mean to us, Gut?",
                                    "1": "NULL"
                                },
                                {
                                    "0": "We don't share this sort of thing. Salesman-client confidentiality.",
                                    "1": "NULL"
                                },
                                {
                                    "0": "Oh, you wanna obstruct official Trollhunting business? Is that what you wanna do? Now you've done it! I feel my anger rising. I can't control it. You might want to talk to my partner, because I'm about to explode! [Claire winks to Blinky. He winks back.]",
                                    "1": "NULL"
                                },
                                {
                                    "0": "Ahem. [Blinky shouts and pulls out a live dwärkstone.] If you don't tell us what we need to know this instant, I'm turning us all into a smoking crater! [RotGut shuts their windows.]",
                                    "1": "NULL"
                                },
                                {
                                    "0": "Are you insane? You're gonna kill us all!",
                                    "1": "NULL"
                                },
                                {
                                    "0": "Whoa whoa, Blinky, what are you doing?",
                                    "1": "NULL"
                                },
                                {
                                    "0": "I'm buying baby. I'm buying the farm if they don't start talking!",
                                    "1": "NULL"
                                },
                                {
                                    "0": "Wait, I thought I was the bad cop.",
                                    "1": "NULL"
                                },
                                {
                                    "0": "I thought I was the bad cop. Your performance felt a little ho-hum.",
                                    "1": "NULL"
                                }
                            ]
                        },
                        "text/html": "<table><tr><th>quote</th><th>tag</th></tr><tr><td>Oh. I moves my thumb across my throat. It is, as we say, a killing motion.</td><td>NULL</td></tr><tr><td>Let's try &quot;good cop, bad cop.&quot;</td><td>NULL</td></tr><tr><td>I think I know where you’re going with this. I shall play this game.[Claire knocks on door] Open up, RotGut, or I'll kick down this door! [RotGut answers.]</td><td>NULL</td></tr><tr><td>Ailment or curse?</td><td>NULL</td></tr><tr><td>Neither, you two-headed dirtbag! We need information. Gunmar’s got a mole down here, and you're gonna tell us who it is!</td><td>NULL</td></tr><tr><td>Why is she being so mean to us, Gut?</td><td>NULL</td></tr><tr><td>We don't share this sort of thing. Salesman-client confidentiality.</td><td>NULL</td></tr><tr><td>Oh, you wanna obstruct official Trollhunting business? Is that what you wanna do? Now you've done it! I feel my anger rising. I can't control it. You might want to talk to my partner, because I'm about to explode! [Claire winks to Blinky. He winks back.]</td><td>NULL</td></tr><tr><td>Ahem. [Blinky shouts and pulls out a live dwärkstone.] If you don't tell us what we need to know this instant, I'm turning us all into a smoking crater! [RotGut shuts their windows.]</td><td>NULL</td></tr><tr><td>Are you insane? You're gonna kill us all!</td><td>NULL</td></tr><tr><td>Whoa whoa, Blinky, what are you doing?</td><td>NULL</td></tr><tr><td>I'm buying baby. I'm buying the farm if they don't start talking!</td><td>NULL</td></tr><tr><td>Wait, I thought I was the bad cop.</td><td>NULL</td></tr><tr><td>I thought I was the bad cop. Your performance felt a little ho-hum.</td><td>NULL</td></tr></table>"
                    },
                    "metadata": {}
                },
                {
                    "output_type": "execute_result",
                    "execution_count": 12,
                    "data": {
                        "application/vnd.dataresource+json": {
                            "schema": {
                                "fields": [
                                    {
                                        "name": "PredictedLabel"
                                    },
                                    {
                                        "name": "Score.0"
                                    },
                                    {
                                        "name": "Score.1"
                                    },
                                    {
                                        "name": "Score.2"
                                    },
                                    {
                                        "name": "Score.5"
                                    },
                                    {
                                        "name": "Score.7"
                                    },
                                    {
                                        "name": "Score.8"
                                    },
                                    {
                                        "name": "Score.9"
                                    }
                                ]
                            },
                            "data": [
                                {
                                    "0": "7",
                                    "1": "0.1052623",
                                    "2": "0.2105264",
                                    "3": "0.07017536",
                                    "4": "0.08772001",
                                    "5": "0.2631575",
                                    "6": "0.1578956",
                                    "7": "0.1052629"
                                },
                                {
                                    "0": "7",
                                    "1": "0.1052623",
                                    "2": "0.2105264",
                                    "3": "0.07017536",
                                    "4": "0.08772001",
                                    "5": "0.2631575",
                                    "6": "0.1578956",
                                    "7": "0.1052629"
                                },
                                {
                                    "0": "7",
                                    "1": "0.1052623",
                                    "2": "0.2105264",
                                    "3": "0.07017536",
                                    "4": "0.08772001",
                                    "5": "0.2631575",
                                    "6": "0.1578956",
                                    "7": "0.1052629"
                                },
                                {
                                    "0": "7",
                                    "1": "0.1052623",
                                    "2": "0.2105264",
                                    "3": "0.07017536",
                                    "4": "0.08772001",
                                    "5": "0.2631575",
                                    "6": "0.1578956",
                                    "7": "0.1052629"
                                },
                                {
                                    "0": "7",
                                    "1": "0.1052623",
                                    "2": "0.2105264",
                                    "3": "0.07017536",
                                    "4": "0.08772001",
                                    "5": "0.2631575",
                                    "6": "0.1578956",
                                    "7": "0.1052629"
                                },
                                {
                                    "0": "7",
                                    "1": "0.1052623",
                                    "2": "0.2105264",
                                    "3": "0.07017536",
                                    "4": "0.08772001",
                                    "5": "0.2631575",
                                    "6": "0.1578956",
                                    "7": "0.1052629"
                                },
                                {
                                    "0": "7",
                                    "1": "0.1052623",
                                    "2": "0.2105264",
                                    "3": "0.07017536",
                                    "4": "0.08772001",
                                    "5": "0.2631575",
                                    "6": "0.1578956",
                                    "7": "0.1052629"
                                },
                                {
                                    "0": "7",
                                    "1": "0.1052623",
                                    "2": "0.2105264",
                                    "3": "0.07017536",
                                    "4": "0.08772001",
                                    "5": "0.2631575",
                                    "6": "0.1578956",
                                    "7": "0.1052629"
                                },
                                {
                                    "0": "7",
                                    "1": "0.1052623",
                                    "2": "0.2105264",
                                    "3": "0.07017536",
                                    "4": "0.08772001",
                                    "5": "0.2631575",
                                    "6": "0.1578956",
                                    "7": "0.1052629"
                                },
                                {
                                    "0": "7",
                                    "1": "0.1052623",
                                    "2": "0.2105264",
                                    "3": "0.07017536",
                                    "4": "0.08772001",
                                    "5": "0.2631575",
                                    "6": "0.1578956",
                                    "7": "0.1052629"
                                },
                                {
                                    "0": "7",
                                    "1": "0.1052623",
                                    "2": "0.2105264",
                                    "3": "0.07017536",
                                    "4": "0.08772001",
                                    "5": "0.2631575",
                                    "6": "0.1578956",
                                    "7": "0.1052629"
                                },
                                {
                                    "0": "7",
                                    "1": "0.1052623",
                                    "2": "0.2105264",
                                    "3": "0.07017536",
                                    "4": "0.08772001",
                                    "5": "0.2631575",
                                    "6": "0.1578956",
                                    "7": "0.1052629"
                                },
                                {
                                    "0": "7",
                                    "1": "0.1052623",
                                    "2": "0.2105264",
                                    "3": "0.07017536",
                                    "4": "0.08772001",
                                    "5": "0.2631575",
                                    "6": "0.1578956",
                                    "7": "0.1052629"
                                },
                                {
                                    "0": "7",
                                    "1": "0.1052623",
                                    "2": "0.2105264",
                                    "3": "0.07017536",
                                    "4": "0.08772001",
                                    "5": "0.2631575",
                                    "6": "0.1578956",
                                    "7": "0.1052629"
                                }
                            ]
                        },
                        "text/html": "<table><tr><th>PredictedLabel</th><th>Score.0</th><th>Score.1</th><th>Score.2</th><th>Score.5</th><th>Score.7</th><th>Score.8</th><th>Score.9</th></tr><tr><td>7</td><td>0.1052623</td><td>0.2105264</td><td>0.07017536</td><td>0.08772001</td><td>0.2631575</td><td>0.1578956</td><td>0.1052629</td></tr><tr><td>7</td><td>0.1052623</td><td>0.2105264</td><td>0.07017536</td><td>0.08772001</td><td>0.2631575</td><td>0.1578956</td><td>0.1052629</td></tr><tr><td>7</td><td>0.1052623</td><td>0.2105264</td><td>0.07017536</td><td>0.08772001</td><td>0.2631575</td><td>0.1578956</td><td>0.1052629</td></tr><tr><td>7</td><td>0.1052623</td><td>0.2105264</td><td>0.07017536</td><td>0.08772001</td><td>0.2631575</td><td>0.1578956</td><td>0.1052629</td></tr><tr><td>7</td><td>0.1052623</td><td>0.2105264</td><td>0.07017536</td><td>0.08772001</td><td>0.2631575</td><td>0.1578956</td><td>0.1052629</td></tr><tr><td>7</td><td>0.1052623</td><td>0.2105264</td><td>0.07017536</td><td>0.08772001</td><td>0.2631575</td><td>0.1578956</td><td>0.1052629</td></tr><tr><td>7</td><td>0.1052623</td><td>0.2105264</td><td>0.07017536</td><td>0.08772001</td><td>0.2631575</td><td>0.1578956</td><td>0.1052629</td></tr><tr><td>7</td><td>0.1052623</td><td>0.2105264</td><td>0.07017536</td><td>0.08772001</td><td>0.2631575</td><td>0.1578956</td><td>0.1052629</td></tr><tr><td>7</td><td>0.1052623</td><td>0.2105264</td><td>0.07017536</td><td>0.08772001</td><td>0.2631575</td><td>0.1578956</td><td>0.1052629</td></tr><tr><td>7</td><td>0.1052623</td><td>0.2105264</td><td>0.07017536</td><td>0.08772001</td><td>0.2631575</td><td>0.1578956</td><td>0.1052629</td></tr><tr><td>7</td><td>0.1052623</td><td>0.2105264</td><td>0.07017536</td><td>0.08772001</td><td>0.2631575</td><td>0.1578956</td><td>0.1052629</td></tr><tr><td>7</td><td>0.1052623</td><td>0.2105264</td><td>0.07017536</td><td>0.08772001</td><td>0.2631575</td><td>0.1578956</td><td>0.1052629</td></tr><tr><td>7</td><td>0.1052623</td><td>0.2105264</td><td>0.07017536</td><td>0.08772001</td><td>0.2631575</td><td>0.1578956</td><td>0.1052629</td></tr><tr><td>7</td><td>0.1052623</td><td>0.2105264</td><td>0.07017536</td><td>0.08772001</td><td>0.2631575</td><td>0.1578956</td><td>0.1052629</td></tr></table>"
                    },
                    "metadata": {}
                },
                {
                    "output_type": "execute_result",
                    "execution_count": 12,
                    "data": {
                        "application/vnd.dataresource+json": {
                            "schema": {
                                "fields": [
                                    {
                                        "name": "PredictedLabel"
                                    },
                                    {
                                        "name": "Score"
                                    },
                                    {
                                        "name": "Prediction"
                                    }
                                ]
                            },
                            "data": [
                                {
                                    "0": "7",
                                    "1": "score7",
                                    "2": "0.263157486915588"
                                },
                                {
                                    "0": "7",
                                    "1": "score1",
                                    "2": "0.210526421666145"
                                },
                                {
                                    "0": "7",
                                    "1": "score8",
                                    "2": "0.157895624637604"
                                },
                                {
                                    "0": "7",
                                    "1": "score9",
                                    "2": "0.105262860655785"
                                },
                                {
                                    "0": "7",
                                    "1": "score0",
                                    "2": "0.105262331664562"
                                },
                                {
                                    "0": "7",
                                    "1": "score5",
                                    "2": "0.087720014154911"
                                },
                                {
                                    "0": "7",
                                    "1": "score2",
                                    "2": "0.0701753571629524"
                                }
                            ]
                        },
                        "text/html": "<table><tr><th>PredictedLabel</th><th>Score</th><th>Prediction</th></tr><tr><td>7</td><td>score7</td><td>0.263157486915588</td></tr><tr><td>7</td><td>score1</td><td>0.210526421666145</td></tr><tr><td>7</td><td>score8</td><td>0.157895624637604</td></tr><tr><td>7</td><td>score9</td><td>0.105262860655785</td></tr><tr><td>7</td><td>score0</td><td>0.105262331664562</td></tr><tr><td>7</td><td>score5</td><td>0.087720014154911</td></tr><tr><td>7</td><td>score2</td><td>0.0701753571629524</td></tr></table>"
                    },
                    "metadata": {}
                }
            ],
            "execution_count": 12
        }
    ]
}